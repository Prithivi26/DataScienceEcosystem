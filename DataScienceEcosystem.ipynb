{
 "cells": [
  {
   "cell_type": "markdown",
   "id": "2af970fe-8849-416f-afb5-49b3a0f42e6d",
   "metadata": {},
   "source": [
    "# H1: Data Science Tools and Ecosystem"
   ]
  },
  {
   "cell_type": "markdown",
   "id": "6d1208ba-7ac3-4be4-8d55-c653faf0dce5",
   "metadata": {},
   "source": [
    "# In this notebook, Data Science Tools and Ecosystem are summarized.\n"
   ]
  },
  {
   "cell_type": "markdown",
   "id": "fb6491e4-f128-4746-a934-65f5fa3f9e1b",
   "metadata": {},
   "source": [
    "#  list the objectives that this notebook covered \n",
    "# **Objectives :**\n",
    "- List popular languages for Data Science\n",
    "- list of the popular languages that Data Scientists use\n",
    "- list of the commonly used libraries used by Data Scientists"
   ]
  },
  {
   "cell_type": "markdown",
   "id": "1b23943f-962a-4de3-b463-383aebb053c4",
   "metadata": {},
   "source": [
    "# Some of the popular languages that Data Scientists use are:\n",
    "1. python\n",
    "2. R\n",
    "3. SQl\n",
    "4. Scala\n",
    "5. Juila\n",
    "6. Java\n",
    "7. C/C++"
   ]
  },
  {
   "cell_type": "markdown",
   "id": "b0431624-025a-4d85-8523-bcffa61ec116",
   "metadata": {},
   "source": [
    "# Some of the commonly used libraries used by Data Scientists include:\n",
    "1. Pandas\n",
    "2. NumPy\n",
    "3. SciPy\n",
    "4. Seaborn\n",
    "5. Keras\n",
    "6. PyTorch\n",
    "7. Matplotlib"
   ]
  },
  {
   "cell_type": "markdown",
   "id": "e430cc1d-c778-4392-a758-643c8b714565",
   "metadata": {},
   "source": [
    "# \n",
    "| Data Science Tools |\n",
    "| ------------------ |\n",
    "| Apache Spark |\n",
    "| Apache Hadoop |\n",
    "| Jupyter Notebook |\n",
    "| RapidMiner |\n",
    "| TensorFlow |"
   ]
  },
  {
   "cell_type": "markdown",
   "id": "d9e14c7b-850a-479b-b0ff-d5c47dbac6e7",
   "metadata": {},
   "source": [
    "# Arithmetic expression examples\n",
    "### H3 : Below are a few examples of evaluating arithmetic expressions in Python\n",
    "1. addition (+)\n",
    "2. subtraction (-)\n",
    "3. multiplication (*)\n",
    "4. division (/)\n",
    "5. modulo (%)\n",
    "6. exponentiation (**)"
   ]
  },
  {
   "cell_type": "code",
   "execution_count": 3,
   "id": "ac83fa81-b3d2-4383-91c9-cfdddb9a7eff",
   "metadata": {},
   "outputs": [
    {
     "data": {
      "text/plain": [
       "17"
      ]
     },
     "execution_count": 3,
     "metadata": {},
     "output_type": "execute_result"
    }
   ],
   "source": [
    "# This a simple arithmetic expression to mutiply then add integers\n",
    "(3*4)+5"
   ]
  },
  {
   "cell_type": "code",
   "execution_count": 4,
   "id": "db4b3e75-c5a8-4552-ad42-0e4e3755affa",
   "metadata": {},
   "outputs": [
    {
     "data": {
      "text/plain": [
       "3.3333333333333335"
      ]
     },
     "execution_count": 4,
     "metadata": {},
     "output_type": "execute_result"
    }
   ],
   "source": [
    "# This will convert 200 minutes to hours by diving by 60\n",
    "200 /60"
   ]
  },
  {
   "cell_type": "markdown",
   "id": "7f28cf5d-f2c9-494c-8e6b-468899fa8dec",
   "metadata": {},
   "source": [
    "# Author's Name\n",
    "## Author\n",
    "# Prithivivasanthan"
   ]
  },
  {
   "cell_type": "code",
   "execution_count": null,
   "id": "c9382f91-bbad-4e64-b8dd-05e508d65801",
   "metadata": {},
   "outputs": [],
   "source": []
  }
 ],
 "metadata": {
  "kernelspec": {
   "display_name": "Python 3 (ipykernel)",
   "language": "python",
   "name": "python3"
  },
  "language_info": {
   "codemirror_mode": {
    "name": "ipython",
    "version": 3
   },
   "file_extension": ".py",
   "mimetype": "text/x-python",
   "name": "python",
   "nbconvert_exporter": "python",
   "pygments_lexer": "ipython3",
   "version": "3.11.7"
  }
 },
 "nbformat": 4,
 "nbformat_minor": 5
}
